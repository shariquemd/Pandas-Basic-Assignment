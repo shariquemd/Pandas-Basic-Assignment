{
 "cells": [
  {
   "cell_type": "markdown",
   "id": "694708a8",
   "metadata": {},
   "source": [
    "# Answer1"
   ]
  },
  {
   "cell_type": "code",
   "execution_count": 2,
   "id": "c5111c16",
   "metadata": {},
   "outputs": [
    {
     "data": {
      "text/plain": [
       "0     4\n",
       "1     8\n",
       "2    15\n",
       "3    16\n",
       "4    23\n",
       "5    42\n",
       "dtype: int64"
      ]
     },
     "execution_count": 2,
     "metadata": {},
     "output_type": "execute_result"
    }
   ],
   "source": [
    "import pandas as pd\n",
    "data=[4, 8, 15, 16, 23,42]\n",
    "pd.Series(data)"
   ]
  },
  {
   "cell_type": "markdown",
   "id": "895352a8",
   "metadata": {},
   "source": [
    "# Answer2"
   ]
  },
  {
   "cell_type": "code",
   "execution_count": 7,
   "id": "f3372d60",
   "metadata": {},
   "outputs": [
    {
     "data": {
      "text/plain": [
       "0                      1\n",
       "1                      2\n",
       "2                     34\n",
       "3                     56\n",
       "4    {ML, Sharique, JMI}\n",
       "5        (PW, 45.67, DS)\n",
       "6                     50\n",
       "7                 567.89\n",
       "8                    -12\n",
       "9                     78\n",
       "dtype: object"
      ]
     },
     "execution_count": 7,
     "metadata": {},
     "output_type": "execute_result"
    }
   ],
   "source": [
    "l=[1,2,34,56,{\"Sharique\",\"JMI\",\"ML\"},(\"PW\",45.67,\"DS\"),50,567.89,-12,78]\n",
    "pd.Series(l)"
   ]
  },
  {
   "cell_type": "markdown",
   "id": "2b04ef55",
   "metadata": {},
   "source": [
    "# Answer3"
   ]
  },
  {
   "cell_type": "code",
   "execution_count": 9,
   "id": "840c7eb0",
   "metadata": {},
   "outputs": [
    {
     "data": {
      "text/html": [
       "<div>\n",
       "<style scoped>\n",
       "    .dataframe tbody tr th:only-of-type {\n",
       "        vertical-align: middle;\n",
       "    }\n",
       "\n",
       "    .dataframe tbody tr th {\n",
       "        vertical-align: top;\n",
       "    }\n",
       "\n",
       "    .dataframe thead th {\n",
       "        text-align: right;\n",
       "    }\n",
       "</style>\n",
       "<table border=\"1\" class=\"dataframe\">\n",
       "  <thead>\n",
       "    <tr style=\"text-align: right;\">\n",
       "      <th></th>\n",
       "      <th>Name</th>\n",
       "      <th>Age</th>\n",
       "      <th>Gender</th>\n",
       "    </tr>\n",
       "  </thead>\n",
       "  <tbody>\n",
       "    <tr>\n",
       "      <th>0</th>\n",
       "      <td>Alice</td>\n",
       "      <td>25</td>\n",
       "      <td>Female</td>\n",
       "    </tr>\n",
       "    <tr>\n",
       "      <th>1</th>\n",
       "      <td>Age</td>\n",
       "      <td>30</td>\n",
       "      <td>Male</td>\n",
       "    </tr>\n",
       "    <tr>\n",
       "      <th>2</th>\n",
       "      <td>Gender</td>\n",
       "      <td>27</td>\n",
       "      <td>Female</td>\n",
       "    </tr>\n",
       "  </tbody>\n",
       "</table>\n",
       "</div>"
      ],
      "text/plain": [
       "     Name Age  Gender\n",
       "0   Alice  25  Female\n",
       "1     Age  30    Male\n",
       "2  Gender  27  Female"
      ]
     },
     "execution_count": 9,
     "metadata": {},
     "output_type": "execute_result"
    }
   ],
   "source": [
    "data={'Name':['Alice','Age','Gender'],\n",
    "      'Age':['25','30','27'],\n",
    "      'Gender':['Female','Male','Female']\n",
    "}\n",
    "pd.DataFrame(data)"
   ]
  },
  {
   "cell_type": "markdown",
   "id": "9791893a",
   "metadata": {},
   "source": [
    "# Answer4"
   ]
  },
  {
   "cell_type": "code",
   "execution_count": null,
   "id": "65bd878e",
   "metadata": {},
   "outputs": [],
   "source": [
    " DataFrame and a Series are two fundamental data structures for working with tabular and labeled data. \n",
    "\n",
    "DataFrame:\n",
    "A DataFrame is a two-dimensional, size-mutable, and heterogeneous tabular data structure in Pandas. It is similar to a spreadsheet or a SQL table, where data is organized in rows and columns.\n",
    "Each column in a DataFrame can have a different data type (e.g., integer, float, string, datetime) and represents a variable or a feature.\n",
    "DataFrames are ideal for handling structured data, such as CSV files or database tables, and are the primary data structure used for data analysis and manipulation in Pandas.\n",
    "You can think of a DataFrame as a collection of Series objects, where each column is a Series with its own data type and index.\n",
    "\n",
    "Series:\n",
    "A Series is a one-dimensional labeled array in Pandas. It can be thought of as a single column of data from a DataFrame.\n",
    "Unlike a DataFrame, a Series has a single data type for all its elements.\n",
    "Series are often used to represent a single variable or feature, and they come with a label or index, which can be customized or automatically generated."
   ]
  },
  {
   "cell_type": "code",
   "execution_count": 10,
   "id": "4d38220f",
   "metadata": {},
   "outputs": [
    {
     "name": "stdout",
     "output_type": "stream",
     "text": [
      "DataFrame 'df':\n",
      "      Name  Age\n",
      "0    Alice   25\n",
      "1      Bob   30\n",
      "2  Charlie   22\n",
      "\n",
      "Series 'age_series':\n",
      "0    25\n",
      "1    30\n",
      "2    22\n",
      "Name: Age, dtype: int64\n"
     ]
    }
   ],
   "source": [
    "\n",
    "\n",
    "# Create a DataFrame\n",
    "data = {'Name': ['Alice', 'Bob', 'Charlie'],\n",
    "        'Age': [25, 30, 22]}\n",
    "df = pd.DataFrame(data)\n",
    "\n",
    "# 'df' is a DataFrame with two columns: 'Name' and 'Age'\n",
    "print(\"DataFrame 'df':\")\n",
    "print(df)\n",
    "\n",
    "# Accessing a single column from the DataFrame creates a Series\n",
    "age_series = df['Age']\n",
    "\n",
    "# 'age_series' is a Series representing the 'Age' column\n",
    "print(\"\\nSeries 'age_series':\")\n",
    "print(age_series)\n",
    "\n"
   ]
  },
  {
   "cell_type": "markdown",
   "id": "6f5e9764",
   "metadata": {},
   "source": [
    "# Answer5"
   ]
  },
  {
   "cell_type": "code",
   "execution_count": 12,
   "id": "69c9adfc",
   "metadata": {},
   "outputs": [],
   "source": [
    "df[column]\n",
    "df[[column1, column2]]\n",
    "df.loc[rows, columns]\n",
    "df.iloc[rows, columns]\n",
    "df.query('condition')\n",
    "pd.concat([df1, df2], axis=0)\n",
    "pd.concat([df1, df2], axis=1)\n",
    "df.merge(other_df, on='key_column', how='inner')\n",
    "df.drop(columns=['column1', 'column2'])\n",
    "df.drop_duplicates()\n",
    "df.fillna(value)\n"
   ]
  },
  {
   "cell_type": "markdown",
   "id": "47cbc04e",
   "metadata": {},
   "source": [
    "# Answer6"
   ]
  },
  {
   "cell_type": "code",
   "execution_count": null,
   "id": "10df36df",
   "metadata": {},
   "outputs": [],
   "source": [
    "Among the three data structures mentioned (Series, DataFrame, Panel), the DataFrame is mutable in nature. This means you can modify the contents of a DataFrame after it has been created. You can add or remove columns, update values, or perform various data manipulation operations on a DataFrame."
   ]
  },
  {
   "cell_type": "markdown",
   "id": "1608d72f",
   "metadata": {},
   "source": [
    "# Answer7"
   ]
  },
  {
   "cell_type": "code",
   "execution_count": 25,
   "id": "a0b0d8af",
   "metadata": {},
   "outputs": [
    {
     "data": {
      "text/html": [
       "<div>\n",
       "<style scoped>\n",
       "    .dataframe tbody tr th:only-of-type {\n",
       "        vertical-align: middle;\n",
       "    }\n",
       "\n",
       "    .dataframe tbody tr th {\n",
       "        vertical-align: top;\n",
       "    }\n",
       "\n",
       "    .dataframe thead th {\n",
       "        text-align: right;\n",
       "    }\n",
       "</style>\n",
       "<table border=\"1\" class=\"dataframe\">\n",
       "  <thead>\n",
       "    <tr style=\"text-align: right;\">\n",
       "      <th></th>\n",
       "      <th>Column1</th>\n",
       "      <th>Column2</th>\n",
       "      <th>Column3</th>\n",
       "    </tr>\n",
       "  </thead>\n",
       "  <tbody>\n",
       "    <tr>\n",
       "      <th>0</th>\n",
       "      <td>1</td>\n",
       "      <td>A</td>\n",
       "      <td>10.5</td>\n",
       "    </tr>\n",
       "    <tr>\n",
       "      <th>1</th>\n",
       "      <td>2</td>\n",
       "      <td>B</td>\n",
       "      <td>20.2</td>\n",
       "    </tr>\n",
       "    <tr>\n",
       "      <th>2</th>\n",
       "      <td>3</td>\n",
       "      <td>C</td>\n",
       "      <td>15.7</td>\n",
       "    </tr>\n",
       "    <tr>\n",
       "      <th>3</th>\n",
       "      <td>4</td>\n",
       "      <td>D</td>\n",
       "      <td>8.9</td>\n",
       "    </tr>\n",
       "  </tbody>\n",
       "</table>\n",
       "</div>"
      ],
      "text/plain": [
       "   Column1 Column2  Column3\n",
       "0        1       A     10.5\n",
       "1        2       B     20.2\n",
       "2        3       C     15.7\n",
       "3        4       D      8.9"
      ]
     },
     "execution_count": 25,
     "metadata": {},
     "output_type": "execute_result"
    }
   ],
   "source": [
    "# Create multiple Series\n",
    "s1 = pd.Series([1, 2, 3, 4], name='Column1')\n",
    "s2 = pd.Series(['A', 'B', 'C', 'D'], name='Column2')\n",
    "s3 = pd.Series([10.5, 20.2, 15.7, 8.9], name='Column3')\n",
    "\n",
    "# Create a DataFrame using the Series\n",
    "df = pd.DataFrame({'Column1': s1, 'Column2': s2, 'Column3': s3})\n",
    "\n",
    "df"
   ]
  },
  {
   "cell_type": "code",
   "execution_count": null,
   "id": "affdcd57",
   "metadata": {},
   "outputs": [],
   "source": []
  }
 ],
 "metadata": {
  "kernelspec": {
   "display_name": "Python 3 (ipykernel)",
   "language": "python",
   "name": "python3"
  },
  "language_info": {
   "codemirror_mode": {
    "name": "ipython",
    "version": 3
   },
   "file_extension": ".py",
   "mimetype": "text/x-python",
   "name": "python",
   "nbconvert_exporter": "python",
   "pygments_lexer": "ipython3",
   "version": "3.11.4"
  }
 },
 "nbformat": 4,
 "nbformat_minor": 5
}
